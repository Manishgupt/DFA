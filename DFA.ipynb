{
 "cells": [
  {
   "cell_type": "code",
   "execution_count": 8,
   "metadata": {},
   "outputs": [
    {
     "name": "stdout",
     "output_type": "stream",
     "text": [
      "enter string starting with ad\n"
     ]
    }
   ],
   "source": [
    "class abc:\n",
    "    def __init__(self):\n",
    "        data=input(\"enter string starting with a\")\n",
    "        self.i=0\n",
    "        length=len(data)\n",
    "        \n",
    "        if(length>=1):\n",
    "            def second(self):\n",
    "                if(length==self.i):\n",
    "                    print(\"string is acepted\")\n",
    "                    return \n",
    "                elif(data[self.i] not in \"ab\"):\n",
    "                    print(\"string must contain /'ab'\")\n",
    "                    return\n",
    "                else:\n",
    "                    self.i+=1\n",
    "                second(self)\n",
    "            \n",
    "            \n",
    "            def first(self):\n",
    "                for j in data:\n",
    "                    if(j==\"a\"):\n",
    "                        self.i+=1\n",
    "                        second(self)\n",
    "                        return\n",
    "                    else:\n",
    "                        print(\"starting character must be a\")\n",
    "                        \n",
    "            first(self)\n",
    "        else:\n",
    "            print(\"length must be >=1\")\n",
    "obj=abc()"
   ]
  },
  {
   "cell_type": "code",
   "execution_count": null,
   "metadata": {},
   "outputs": [],
   "source": []
  }
 ],
 "metadata": {
  "kernelspec": {
   "display_name": "Python 3",
   "language": "python",
   "name": "python3"
  },
  "language_info": {
   "codemirror_mode": {
    "name": "ipython",
    "version": 3
   },
   "file_extension": ".py",
   "mimetype": "text/x-python",
   "name": "python",
   "nbconvert_exporter": "python",
   "pygments_lexer": "ipython3",
   "version": "3.6.5"
  }
 },
 "nbformat": 4,
 "nbformat_minor": 4
}
