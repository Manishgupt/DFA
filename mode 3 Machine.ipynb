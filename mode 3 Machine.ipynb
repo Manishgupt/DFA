{
 "cells": [
  {
   "cell_type": "code",
   "execution_count": null,
   "metadata": {},
   "outputs": [],
   "source": [
    "data=input(\"enter string mode 3 over'01':\")\n",
    "length=len(data)\n",
    "i=0\n",
    "if(length>=1):\n",
    "    \n",
    "    def check():\n",
    "        for k in data:\n",
    "            if(k in \"01\"):\n",
    "                pass\n",
    "            else:\n",
    "                print(\"string must be over 1 and 0\")\n",
    "                return\n",
    "        zero(i)\n",
    "        \n",
    "    def zero(i):\n",
    "        if(length==i):\n",
    "            print(\"string is accepted divisible by 3 remainder will be 0\")\n",
    "            return\n",
    "        elif(data[i]==\"1\"):\n",
    "            i+=1\n",
    "            first(i)\n",
    "            return\n",
    "        else:\n",
    "            i+=1\n",
    "            zero(i)\n",
    "            \n",
    "    def first(i):\n",
    "        if(length==i):\n",
    "            print(\"not divisible by 3 remainder will be 1\")\n",
    "            return\n",
    "        elif(data[i]==\"0\"):\n",
    "            i+=1\n",
    "            second(i)\n",
    "            return\n",
    "        else:\n",
    "            i+=1\n",
    "            zero(i)\n",
    "    \n",
    "    def second(i):\n",
    "        if(length==i):\n",
    "            print(\"not divisible by 3 remainder will be 2\")\n",
    "            return\n",
    "        elif(data[i]==\"0\"):\n",
    "            i+=1\n",
    "            first(i)\n",
    "        else:\n",
    "            i+=1\n",
    "            second(i)\n",
    "            return\n",
    "    \n",
    "    check()\n",
    "else:\n",
    "    print(\"length must be >=1\")"
   ]
  }
 ],
 "metadata": {
  "kernelspec": {
   "display_name": "Python 3",
   "language": "python",
   "name": "python3"
  },
  "language_info": {
   "codemirror_mode": {
    "name": "ipython",
    "version": 3
   },
   "file_extension": ".py",
   "mimetype": "text/x-python",
   "name": "python",
   "nbconvert_exporter": "python",
   "pygments_lexer": "ipython3",
   "version": "3.6.5"
  }
 },
 "nbformat": 4,
 "nbformat_minor": 4
}
